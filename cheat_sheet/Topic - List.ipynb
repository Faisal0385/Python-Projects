{
 "cells": [
  {
   "cell_type": "code",
   "execution_count": 1,
   "metadata": {},
   "outputs": [],
   "source": [
    "# List :\n",
    "# if we want to represent a grp of individual abjects as a single entity \n",
    "# where insertion order preserved & duplicates are allowed, then we should go for list "
   ]
  },
  {
   "cell_type": "code",
   "execution_count": 3,
   "metadata": {},
   "outputs": [],
   "source": []
  },
  {
   "cell_type": "code",
   "execution_count": 4,
   "metadata": {},
   "outputs": [
    {
     "name": "stdout",
     "output_type": "stream",
     "text": [
      "Faisal\n"
     ]
    }
   ],
   "source": [
    "# variable name = value\n",
    "name = \"Faisal\"\n",
    "print(name)"
   ]
  },
  {
   "cell_type": "code",
   "execution_count": 5,
   "metadata": {},
   "outputs": [
    {
     "name": "stdout",
     "output_type": "stream",
     "text": [
      "riyed\n"
     ]
    }
   ],
   "source": [
    "name = \"riyed\"\n",
    "print(name)"
   ]
  },
  {
   "cell_type": "code",
   "execution_count": 10,
   "metadata": {},
   "outputs": [
    {
     "name": "stdout",
     "output_type": "stream",
     "text": [
      "<class 'list'>\n"
     ]
    }
   ],
   "source": [
    "# list_names_best_friend:\n",
    "#     1. Fahim\n",
    "#     2. Fahad\n",
    "#     3. Faezah\n",
    "#     4. Rajon\n",
    "\n",
    "# list formula\n",
    "##############\n",
    "# list_names = [element1, element2]\n",
    "\n",
    "## Create an empty list\n",
    "list_name = []\n",
    "print(type(list_name))\n"
   ]
  },
  {
   "cell_type": "code",
   "execution_count": 35,
   "metadata": {},
   "outputs": [
    {
     "name": "stdout",
     "output_type": "stream",
     "text": [
      "['Fahim', 'Fahad', 'Faezah', 'Rajon']\n"
     ]
    }
   ],
   "source": [
    "#                            0         1        2         3    (+)indexing - position of the element in the list\n",
    "list_names_best_friend = [\"Fahim\", \"Fahad\", \"Faezah\", \"Rajon\"]\n",
    "#                           -4        -3       -2        -1    (-)indexing - position of the element in the list\n",
    "\n",
    "print(list_names_best_friend)"
   ]
  },
  {
   "cell_type": "code",
   "execution_count": 36,
   "metadata": {},
   "outputs": [],
   "source": [
    "## How to access a list ##"
   ]
  },
  {
   "cell_type": "code",
   "execution_count": 37,
   "metadata": {},
   "outputs": [
    {
     "name": "stdout",
     "output_type": "stream",
     "text": [
      "Fahad\n"
     ]
    }
   ],
   "source": [
    "## access the 2nd value of the list\n",
    "print(list_names_best_friend[1])"
   ]
  },
  {
   "cell_type": "code",
   "execution_count": 38,
   "metadata": {},
   "outputs": [
    {
     "name": "stdout",
     "output_type": "stream",
     "text": [
      "Faezah\n"
     ]
    }
   ],
   "source": [
    "## access the 3rd value of the list\n",
    "print(list_names_best_friend[2])"
   ]
  },
  {
   "cell_type": "code",
   "execution_count": 39,
   "metadata": {},
   "outputs": [
    {
     "name": "stdout",
     "output_type": "stream",
     "text": [
      "Rajon\n"
     ]
    }
   ],
   "source": [
    "## access the last value of the list\n",
    "print(list_names_best_friend[-1])"
   ]
  },
  {
   "cell_type": "code",
   "execution_count": 40,
   "metadata": {},
   "outputs": [],
   "source": [
    "## List is mutable (changeable)\n",
    "## we can modify the elements in the list"
   ]
  },
  {
   "cell_type": "code",
   "execution_count": 41,
   "metadata": {},
   "outputs": [
    {
     "data": {
      "text/plain": [
       "['Fahim', 'Fahad', 'Faezah', 'Rajon']"
      ]
     },
     "execution_count": 41,
     "metadata": {},
     "output_type": "execute_result"
    }
   ],
   "source": [
    "list_names_best_friend"
   ]
  },
  {
   "cell_type": "code",
   "execution_count": 42,
   "metadata": {},
   "outputs": [],
   "source": [
    "## formula :- list_name[(-/+)index no.] = value\n",
    "list_names_best_friend[-1] = \"Minhaj\""
   ]
  },
  {
   "cell_type": "code",
   "execution_count": 43,
   "metadata": {},
   "outputs": [
    {
     "data": {
      "text/plain": [
       "['Fahim', 'Fahad', 'Faezah', 'Minhaj']"
      ]
     },
     "execution_count": 43,
     "metadata": {},
     "output_type": "execute_result"
    }
   ],
   "source": [
    "list_names_best_friend"
   ]
  },
  {
   "cell_type": "code",
   "execution_count": 44,
   "metadata": {},
   "outputs": [],
   "source": [
    "list_names_best_friend[0] = \"Farjana\""
   ]
  },
  {
   "cell_type": "code",
   "execution_count": 45,
   "metadata": {},
   "outputs": [
    {
     "data": {
      "text/plain": [
       "['Farjana', 'Fahad', 'Faezah', 'Minhaj']"
      ]
     },
     "execution_count": 45,
     "metadata": {},
     "output_type": "execute_result"
    }
   ],
   "source": [
    "list_names_best_friend"
   ]
  },
  {
   "cell_type": "code",
   "execution_count": 69,
   "metadata": {},
   "outputs": [],
   "source": [
    "list_names_best_friend.append(\"Rajon\")"
   ]
  },
  {
   "cell_type": "code",
   "execution_count": 70,
   "metadata": {},
   "outputs": [
    {
     "name": "stdout",
     "output_type": "stream",
     "text": [
      "7\n"
     ]
    }
   ],
   "source": [
    "## some information about the list\n",
    "\n",
    "## length of the list\n",
    "## len() - is a bulit-in function of python\n",
    "\n",
    "print(len(list_names_best_friend))"
   ]
  },
  {
   "cell_type": "code",
   "execution_count": 75,
   "metadata": {},
   "outputs": [
    {
     "name": "stdout",
     "output_type": "stream",
     "text": [
      "['Farjana', 'Fahad', 'Faezah', 'Minhaj', 'Rajon', 'Rajon', 'Rajon']\n",
      "0\n"
     ]
    }
   ],
   "source": [
    "print(list_names_best_friend)\n",
    "## count() - to check the duplicates element in a list\n",
    "\n",
    "## if the return value is equql to 0, then we can the value does not exist\n",
    "## if the return value is greater than 1, then got duplicate value\n",
    "\n",
    "## formula :- list_name.count(value)\n",
    "\n",
    "print(list_names_best_friend.count('Fahim'))"
   ]
  },
  {
   "cell_type": "code",
   "execution_count": 76,
   "metadata": {},
   "outputs": [
    {
     "name": "stdout",
     "output_type": "stream",
     "text": [
      "2\n"
     ]
    }
   ],
   "source": [
    "## what is the indexing positon of a value in the list?\n",
    "print(list_names_best_friend.index(\"Faezah\"))"
   ]
  },
  {
   "cell_type": "code",
   "execution_count": 77,
   "metadata": {},
   "outputs": [
    {
     "name": "stdout",
     "output_type": "stream",
     "text": [
      "4\n"
     ]
    }
   ],
   "source": [
    "## in case of duplicate values it only return the index value of the 1st element found.\n",
    "print(list_names_best_friend.index(\"Rajon\"))"
   ]
  },
  {
   "cell_type": "code",
   "execution_count": null,
   "metadata": {},
   "outputs": [],
   "source": []
  },
  {
   "cell_type": "code",
   "execution_count": 83,
   "metadata": {},
   "outputs": [],
   "source": [
    "## if we want to add an element in the list at the end\n",
    "## formula:- list_name.append(value)\n",
    "list_names_best_friend.append(\"Fahim\")"
   ]
  },
  {
   "cell_type": "code",
   "execution_count": null,
   "metadata": {},
   "outputs": [],
   "source": []
  },
  {
   "cell_type": "code",
   "execution_count": 85,
   "metadata": {},
   "outputs": [],
   "source": [
    "## if we want to add an element at the 1st position of the list\n",
    "## formula :- list_name.insert(position, value)\n",
    "list_names_best_friend.insert(0,\"Faezah\")"
   ]
  },
  {
   "cell_type": "code",
   "execution_count": 87,
   "metadata": {},
   "outputs": [
    {
     "data": {
      "text/plain": [
       "['Faezah',\n",
       " 'Faezah',\n",
       " 'Farjana',\n",
       " 'Fahad',\n",
       " 'Faezah',\n",
       " 'Minhaj',\n",
       " 'Rajon',\n",
       " 'Rajon',\n",
       " 'Rajon',\n",
       " 'Fahim',\n",
       " 'Fahim']"
      ]
     },
     "execution_count": 87,
     "metadata": {},
     "output_type": "execute_result"
    }
   ],
   "source": [
    "list_names_best_friend"
   ]
  },
  {
   "cell_type": "code",
   "execution_count": null,
   "metadata": {},
   "outputs": [],
   "source": []
  }
 ],
 "metadata": {
  "kernelspec": {
   "display_name": "Python 3",
   "language": "python",
   "name": "python3"
  },
  "language_info": {
   "codemirror_mode": {
    "name": "ipython",
    "version": 3
   },
   "file_extension": ".py",
   "mimetype": "text/x-python",
   "name": "python",
   "nbconvert_exporter": "python",
   "pygments_lexer": "ipython3",
   "version": "3.8.5"
  }
 },
 "nbformat": 4,
 "nbformat_minor": 4
}
