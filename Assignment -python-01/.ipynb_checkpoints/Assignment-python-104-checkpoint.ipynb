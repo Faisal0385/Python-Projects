{
 "cells": [
  {
   "cell_type": "code",
   "execution_count": 19,
   "metadata": {},
   "outputs": [],
   "source": [
    "# 1. Create a program that asks the user to enter their name and their age. \n",
    "# Print out a message addressed to them that tells them the year that they will turn 100 years old."
   ]
  },
  {
   "cell_type": "code",
   "execution_count": null,
   "metadata": {},
   "outputs": [],
   "source": [
    "## Solution"
   ]
  },
  {
   "cell_type": "code",
   "execution_count": 12,
   "metadata": {},
   "outputs": [
    {
     "name": "stdout",
     "output_type": "stream",
     "text": [
      "Enter your name: Faisal\n"
     ]
    }
   ],
   "source": [
    "# Ask the user for his/her name.  \n",
    "name = input('Enter your name: ')\n",
    "\n",
    "while True:\n",
    "    # check the input value is empty or not\n",
    "    if name == '':\n",
    "        name = input('Enter your name: ')\n",
    "    else:\n",
    "        break"
   ]
  },
  {
   "cell_type": "code",
   "execution_count": 13,
   "metadata": {},
   "outputs": [
    {
     "name": "stdout",
     "output_type": "stream",
     "text": [
      "Enter your age: 36\n"
     ]
    }
   ],
   "source": [
    "# Ask the user for his/her age.\n",
    "age = input('Enter your age: ')\n",
    "\n",
    "while True:\n",
    "    # check the input value is empty or not\n",
    "    if age == '':\n",
    "        age = input('Enter your age: ')\n",
    "    else:\n",
    "        break"
   ]
  },
  {
   "cell_type": "code",
   "execution_count": 14,
   "metadata": {},
   "outputs": [
    {
     "name": "stdout",
     "output_type": "stream",
     "text": [
      "Hi! FAISAL. You will be 100 years old at year - 2085\n"
     ]
    }
   ],
   "source": [
    "# We minused the current age (current_age) from the future age (100), in this case. \n",
    "# And added the difference with the current year.\n",
    "\n",
    "current_year = 2021\n",
    "current_age = int(age) # Changing the input value from str to int\n",
    "\n",
    "difference_age = (100 - current_age)\n",
    "at_Year = 2021 + difference_age\n",
    "\n",
    "print(\"Hi! \" + name.upper() + \". You will be 100 years old at year - \" + str(at_Year))"
   ]
  },
  {
   "cell_type": "code",
   "execution_count": null,
   "metadata": {},
   "outputs": [],
   "source": []
  },
  {
   "cell_type": "code",
   "execution_count": null,
   "metadata": {},
   "outputs": [],
   "source": []
  },
  {
   "cell_type": "code",
   "execution_count": 67,
   "metadata": {},
   "outputs": [],
   "source": [
    "# 2. Ask the user for a number. \n",
    "# Depending on whether the number is even or odd, print out an appropriate message to the user."
   ]
  },
  {
   "cell_type": "code",
   "execution_count": null,
   "metadata": {},
   "outputs": [],
   "source": [
    "## Solution"
   ]
  },
  {
   "cell_type": "code",
   "execution_count": 15,
   "metadata": {},
   "outputs": [
    {
     "name": "stdout",
     "output_type": "stream",
     "text": [
      "Pls enter your number: 63\n"
     ]
    }
   ],
   "source": [
    "# Ask the user for a number\n",
    "user_number = input('Pls enter your number: ')\n",
    "while True:\n",
    "    # check the input value is empty or not\n",
    "    if user_number == '':\n",
    "        user_number = input('Pls enter your number: ')\n",
    "    else:\n",
    "        break"
   ]
  },
  {
   "cell_type": "code",
   "execution_count": 16,
   "metadata": {},
   "outputs": [
    {
     "name": "stdout",
     "output_type": "stream",
     "text": [
      "The number is odd\n"
     ]
    }
   ],
   "source": [
    "#Using mudules we can find the even or odd numbers\n",
    "if int(user_number)%2 == 0:\n",
    "    print(\"The number is even\")\n",
    "elif int(user_number)%2 != 0:\n",
    "    print(\"The number is odd\")"
   ]
  },
  {
   "cell_type": "code",
   "execution_count": null,
   "metadata": {},
   "outputs": [],
   "source": []
  },
  {
   "cell_type": "code",
   "execution_count": null,
   "metadata": {},
   "outputs": [],
   "source": []
  },
  {
   "cell_type": "code",
   "execution_count": 65,
   "metadata": {},
   "outputs": [],
   "source": [
    "# 3. Create a program that asks the user for a number and \n",
    "# then prints out a list of all the divisors of that number. \n",
    "# (If you don’t know what a divisor is, it is a number that \n",
    "# divides evenly into another number. \n",
    "\n",
    "# For example, 13 is a divisor of 26 because 26 / 13 has no remainder.)"
   ]
  },
  {
   "cell_type": "code",
   "execution_count": null,
   "metadata": {},
   "outputs": [],
   "source": [
    "## Solution"
   ]
  },
  {
   "cell_type": "code",
   "execution_count": 17,
   "metadata": {},
   "outputs": [
    {
     "name": "stdout",
     "output_type": "stream",
     "text": [
      "Pls enter a number: 52\n"
     ]
    }
   ],
   "source": [
    "# Ask the user for a number\n",
    "number = input('Pls enter a number: ')\n",
    "\n",
    "while True:\n",
    "    # check the input value is empty or not\n",
    "    if number == '':\n",
    "        number = input('Pls enter a number: ')\n",
    "    else:\n",
    "        break"
   ]
  },
  {
   "cell_type": "code",
   "execution_count": 18,
   "metadata": {},
   "outputs": [
    {
     "name": "stdout",
     "output_type": "stream",
     "text": [
      "The list of divisors: \n",
      "[1, 2, 4, 13, 26, 52]\n"
     ]
    }
   ],
   "source": [
    "max_num = int(number) + 1\n",
    "\n",
    "divisor_list = []\n",
    "\n",
    "for num in range(1, max_num):\n",
    "    if int(number)%num == 0:\n",
    "        divisor_list.append(num)\n",
    "print(\"The list of divisors: \")\n",
    "print(divisor_list)"
   ]
  },
  {
   "cell_type": "code",
   "execution_count": null,
   "metadata": {},
   "outputs": [],
   "source": []
  },
  {
   "cell_type": "code",
   "execution_count": null,
   "metadata": {},
   "outputs": [],
   "source": []
  },
  {
   "cell_type": "code",
   "execution_count": 2,
   "metadata": {},
   "outputs": [],
   "source": [
    "# 4. Write a program that asks the user how many Fibonacci numbers to generate and \n",
    "# then generates them. Take this opportunity to think about how you can use functions. \n",
    "# Make sure to ask the user to enter the number of numbers in the sequence to generate."
   ]
  },
  {
   "cell_type": "code",
   "execution_count": null,
   "metadata": {},
   "outputs": [],
   "source": [
    "## Solution"
   ]
  },
  {
   "cell_type": "code",
   "execution_count": 6,
   "metadata": {},
   "outputs": [
    {
     "name": "stdout",
     "output_type": "stream",
     "text": [
      "How many Fibonacci Sequence you want generate? 7\n",
      "For the Given value 0, Fabinacci numbers is - 0\n",
      "For the Given value 1, Fabinacci numbers is - 1\n",
      "For the Given value 2, Fabinacci numbers is - 1\n",
      "For the Given value 3, Fabinacci numbers is - 2\n",
      "For the Given value 4, Fabinacci numbers is - 3\n",
      "For the Given value 5, Fabinacci numbers is - 5\n",
      "For the Given value 6, Fabinacci numbers is - 8\n",
      "For the Given value 7, Fabinacci numbers is - 13\n"
     ]
    }
   ],
   "source": [
    "# A Program to display the Fibonacci sequence up to n-th term\n",
    "\n",
    "fibonacci_num = int(input(\"How many Fibonacci Sequence you want generate? \"))\n",
    "\n",
    "## The first two terms in fibonacci sequence\n",
    "n1, n2 = 0, 1\n",
    "\n",
    "## Convert input value from str to number and added 1 to it.\n",
    "range_end = int(fibonacci_num) + 1\n",
    "\n",
    "\n",
    "for n in range(0, range_end):\n",
    "\n",
    "    print(\"For the Given value \" + str(n) +\", Fabinacci numbers is - \"+ str(n1))\n",
    "    nth = n1 + n2\n",
    "    # update values\n",
    "    n1 = n2\n",
    "    n2 = nth"
   ]
  },
  {
   "cell_type": "code",
   "execution_count": null,
   "metadata": {},
   "outputs": [],
   "source": []
  },
  {
   "cell_type": "code",
   "execution_count": null,
   "metadata": {},
   "outputs": [],
   "source": []
  }
 ],
 "metadata": {
  "kernelspec": {
   "display_name": "Python 3",
   "language": "python",
   "name": "python3"
  },
  "language_info": {
   "codemirror_mode": {
    "name": "ipython",
    "version": 3
   },
   "file_extension": ".py",
   "mimetype": "text/x-python",
   "name": "python",
   "nbconvert_exporter": "python",
   "pygments_lexer": "ipython3",
   "version": "3.8.5"
  }
 },
 "nbformat": 4,
 "nbformat_minor": 4
}
