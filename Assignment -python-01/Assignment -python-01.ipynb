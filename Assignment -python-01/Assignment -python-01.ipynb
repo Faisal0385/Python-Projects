{
 "cells": [
  {
   "cell_type": "code",
   "execution_count": 19,
   "metadata": {},
   "outputs": [],
   "source": [
    "# 1. Create a program that asks the user to enter their name and their age. \n",
    "# Print out a message addressed to them that tells them the year that \n",
    "# They will turn 100 years old."
   ]
  },
  {
   "cell_type": "code",
   "execution_count": 17,
   "metadata": {},
   "outputs": [
    {
     "name": "stdout",
     "output_type": "stream",
     "text": [
      "Enter your name: faisal\n"
     ]
    }
   ],
   "source": [
    "#Ask the user for a name.  \n",
    "name = input('Enter your name: ')"
   ]
  },
  {
   "cell_type": "code",
   "execution_count": 18,
   "metadata": {},
   "outputs": [
    {
     "name": "stdout",
     "output_type": "stream",
     "text": [
      "Enter your age: 33\n"
     ]
    }
   ],
   "source": [
    "age = input('Enter your age: ')"
   ]
  },
  {
   "cell_type": "code",
   "execution_count": 19,
   "metadata": {},
   "outputs": [
    {
     "name": "stdout",
     "output_type": "stream",
     "text": [
      "Hi! FAISAL. You will be 100 years old at year - 2088\n"
     ]
    }
   ],
   "source": [
    "current_year = 2021\n",
    "current_age = int(age)\n",
    "\n",
    "toBe100 = (100 - current_age)\n",
    "atYear = 2021 + toBe100\n",
    "\n",
    "print(\"Hi! \" + name.upper() + \". You will be 100 years old at year - \" + str(atYear))"
   ]
  },
  {
   "cell_type": "code",
   "execution_count": null,
   "metadata": {},
   "outputs": [],
   "source": []
  },
  {
   "cell_type": "code",
   "execution_count": null,
   "metadata": {},
   "outputs": [],
   "source": [
    "# 2. Ask the user for a number. \n",
    "# Depending on whether the number is even or odd, \n",
    "# print out an appropriate message to the user."
   ]
  },
  {
   "cell_type": "code",
   "execution_count": 61,
   "metadata": {},
   "outputs": [
    {
     "name": "stdout",
     "output_type": "stream",
     "text": [
      "Pls enter your number: 11\n"
     ]
    }
   ],
   "source": [
    "# Ask the user for a number\n",
    "number = input('Pls enter your number: ')"
   ]
  },
  {
   "cell_type": "code",
   "execution_count": 64,
   "metadata": {},
   "outputs": [
    {
     "name": "stdout",
     "output_type": "stream",
     "text": [
      "The number is odd\n"
     ]
    }
   ],
   "source": [
    "#Using mudules we can find the even or odd numbers\n",
    "\n",
    "if int(number)%2 == 0:\n",
    "    print(\"The number is even\")\n",
    "elif int(number)%2 != 0:\n",
    "    print(\"The number is odd\")"
   ]
  },
  {
   "cell_type": "code",
   "execution_count": null,
   "metadata": {},
   "outputs": [],
   "source": []
  },
  {
   "cell_type": "code",
   "execution_count": 65,
   "metadata": {},
   "outputs": [],
   "source": [
    "# 3. Create a program that asks the user for a number and \n",
    "# then prints out a list of all the divisors of that number. \n",
    "# (If you don’t know what a divisor is, it is a number that \n",
    "# divides evenly into another number. \n",
    "\n",
    "# For example, 13 is a divisor of 26 because 26 / 13 has no remainder.)"
   ]
  },
  {
   "cell_type": "code",
   "execution_count": 4,
   "metadata": {},
   "outputs": [
    {
     "name": "stdout",
     "output_type": "stream",
     "text": [
      "Pls enter your name: 35\n"
     ]
    }
   ],
   "source": [
    "number = input('Pls enter your name: ')"
   ]
  },
  {
   "cell_type": "code",
   "execution_count": 8,
   "metadata": {},
   "outputs": [
    {
     "name": "stdout",
     "output_type": "stream",
     "text": [
      "The list of divisors: \n",
      "[1, 5, 7, 35]\n"
     ]
    }
   ],
   "source": [
    "max_num = int(number) + 1\n",
    "\n",
    "divisor_list = []\n",
    "\n",
    "for num in range(1, max_num):\n",
    "    if int(number)%num == 0:\n",
    "        divisor_list.append(num)\n",
    "print(\"The list of divisors: \")\n",
    "print(divisor_list)"
   ]
  },
  {
   "cell_type": "code",
   "execution_count": null,
   "metadata": {},
   "outputs": [],
   "source": []
  },
  {
   "cell_type": "code",
   "execution_count": null,
   "metadata": {},
   "outputs": [],
   "source": []
  },
  {
   "cell_type": "code",
   "execution_count": 2,
   "metadata": {},
   "outputs": [],
   "source": [
    "# 4. Write a program that asks the user how many Fibonacci numbers to generate and \n",
    "# then generates them. Take this opportunity to think about how you can use functions. \n",
    "# Make sure to ask the user to enter the number of numbers in the sequence to generate."
   ]
  },
  {
   "cell_type": "code",
   "execution_count": 21,
   "metadata": {},
   "outputs": [
    {
     "name": "stdout",
     "output_type": "stream",
     "text": [
      "How many terms? 8\n",
      "0\n",
      "1\n",
      "1\n",
      "2\n",
      "3\n",
      "5\n",
      "8\n",
      "13\n"
     ]
    }
   ],
   "source": [
    "# Program to display the Fibonacci sequence up to n-th term\n",
    "\n",
    "nterms = int(input(\"How many terms? \"))\n",
    "\n",
    "# # first two terms\n",
    "n1, n2 = 0, 1\n",
    "count = 0\n",
    "\n",
    "for n in range(1, int(nterms)+1):\n",
    "    print(n1)\n",
    "    nth = n1 + n2\n",
    "    # update values\n",
    "    n1 = n2\n",
    "    n2 = nth\n",
    "    count += 1"
   ]
  },
  {
   "cell_type": "code",
   "execution_count": null,
   "metadata": {},
   "outputs": [],
   "source": []
  }
 ],
 "metadata": {
  "kernelspec": {
   "display_name": "Python 3",
   "language": "python",
   "name": "python3"
  },
  "language_info": {
   "codemirror_mode": {
    "name": "ipython",
    "version": 3
   },
   "file_extension": ".py",
   "mimetype": "text/x-python",
   "name": "python",
   "nbconvert_exporter": "python",
   "pygments_lexer": "ipython3",
   "version": "3.8.5"
  }
 },
 "nbformat": 4,
 "nbformat_minor": 4
}
