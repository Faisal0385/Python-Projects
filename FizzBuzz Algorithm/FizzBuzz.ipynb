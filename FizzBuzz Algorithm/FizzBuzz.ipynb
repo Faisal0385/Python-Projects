{
 "cells": [
  {
   "cell_type": "code",
   "execution_count": 10,
   "metadata": {},
   "outputs": [],
   "source": [
    "# FizzBuzz Algorithm\n",
    "# The FizzBuzz algorithm comes from a children’s game. \n",
    "# In this problem, you are given a range of integers and you need to produce output according to the rules mentioned below:\n",
    "\n",
    "# If the integer (x) is divisible by 3, the output must be replaced by “Fizz”.\n",
    "# If the integer (x) is divisible by 5, the output must be replaced by “Buzz”.\n",
    "# If the integer (x) is divisible by 3 and 5, the output should be replaced by “FizzBuzz”."
   ]
  },
  {
   "cell_type": "code",
   "execution_count": 11,
   "metadata": {},
   "outputs": [],
   "source": [
    "################## Things we had practiced in this mini project ##################\n",
    "\n",
    "# Tags :: variable, for loop, range, if/elif condition, print(), (%) modules operator, \n",
    "#         (==) comparison/equality operator, (and) AND operator, (in) Membership Operators, str() function and (+) concatenation."
   ]
  },
  {
   "cell_type": "code",
   "execution_count": 13,
   "metadata": {},
   "outputs": [
    {
     "name": "stdout",
     "output_type": "stream",
     "text": [
      "1\n",
      "2\n",
      "3-Fizz\n",
      "4\n",
      "5-Buzz\n",
      "6-Fizz\n",
      "7\n",
      "8\n",
      "9-Fizz\n",
      "10-Buzz\n",
      "11\n",
      "12-Fizz\n",
      "13\n",
      "14\n",
      "15-FizzBuzz\n",
      "16\n",
      "17\n",
      "18-Fizz\n",
      "19\n",
      "20-Buzz\n",
      "21-Fizz\n",
      "22\n",
      "23\n",
      "24-Fizz\n",
      "25-Buzz\n",
      "26\n",
      "27-Fizz\n",
      "28\n",
      "29\n",
      "30-FizzBuzz\n"
     ]
    }
   ],
   "source": [
    "for num in range(1,31):\n",
    "    if num % 3 == 0 and num % 5 == 0:\n",
    "        print(str(num)+\"-\"+\"FizzBuzz\")\n",
    "    elif num % 3 == 0:\n",
    "        print(str(num)+\"-\"+\"Fizz\")\n",
    "    elif num % 5 == 0:\n",
    "        print(str(num)+\"-\"+\"Buzz\")\n",
    "    else:\n",
    "        print(num)"
   ]
  }
 ],
 "metadata": {
  "kernelspec": {
   "display_name": "Python 3",
   "language": "python",
   "name": "python3"
  },
  "language_info": {
   "codemirror_mode": {
    "name": "ipython",
    "version": 3
   },
   "file_extension": ".py",
   "mimetype": "text/x-python",
   "name": "python",
   "nbconvert_exporter": "python",
   "pygments_lexer": "ipython3",
   "version": "3.8.5"
  }
 },
 "nbformat": 4,
 "nbformat_minor": 4
}
