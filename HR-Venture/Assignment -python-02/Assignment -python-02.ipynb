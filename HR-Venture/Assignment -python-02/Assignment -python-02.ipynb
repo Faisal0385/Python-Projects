{
 "cells": [
  {
   "cell_type": "code",
   "execution_count": null,
   "metadata": {},
   "outputs": [],
   "source": [
    "###1\n",
    "# Write a function that takes a list and returns a new list that \n",
    "# contains all the elements of the first list minus all the duplicates."
   ]
  },
  {
   "cell_type": "code",
   "execution_count": 15,
   "metadata": {},
   "outputs": [
    {
     "name": "stdout",
     "output_type": "stream",
     "text": [
      "[1, 2, 3, 4, 5]\n"
     ]
    }
   ],
   "source": [
    "### Solution 1\n",
    "\n",
    "listNum = [1,2,3,4,4,4,5,5]\n",
    "\n",
    "def dupListCheck(listNum):\n",
    "    newList = list(set(listNum))\n",
    "    print(newList)    \n",
    "\n",
    "dupListCheck(listNum)"
   ]
  },
  {
   "cell_type": "code",
   "execution_count": null,
   "metadata": {},
   "outputs": [],
   "source": [
    "###2\n",
    "# Write a function that takes a list of numbers (for example, a = [5, 10, 15, 20, 25]) \n",
    "# and makes a new list of only the first and last elements of the given list."
   ]
  },
  {
   "cell_type": "code",
   "execution_count": 1,
   "metadata": {},
   "outputs": [
    {
     "data": {
      "text/plain": [
       "[5, 25]"
      ]
     },
     "execution_count": 1,
     "metadata": {},
     "output_type": "execute_result"
    }
   ],
   "source": [
    "### Solution 2\n",
    "\n",
    "numList = [5, 10, 15, 20, 25]\n",
    "\n",
    "def first_last_nums(list1):\n",
    "    finalList = []\n",
    "    finalList.append(list1[0])\n",
    "    finalList.append(list1[-1])\n",
    "    return finalList\n",
    "    \n",
    "first_last_nums(numList)"
   ]
  },
  {
   "cell_type": "code",
   "execution_count": 2,
   "metadata": {},
   "outputs": [],
   "source": [
    "###3\n",
    "# Write a function that takes an ordered list of numbers \n",
    "# (a list where the elements are in order from smallest to largest) and another number."
   ]
  },
  {
   "cell_type": "code",
   "execution_count": 5,
   "metadata": {},
   "outputs": [
    {
     "name": "stdout",
     "output_type": "stream",
     "text": [
      "[1, 2, 3, 5, 6, 7, 8, 9]\n",
      "[1, 2, 3, 4, 5, 7, 8, 9, 22, 33, 67]\n"
     ]
    }
   ],
   "source": [
    "### Solution 3\n",
    "\n",
    "def sortNum(ordered_list,anothernum):\n",
    "    ordered_list.append(anothernum)\n",
    "    ordered_list.sort()\n",
    "    print(ordered_list)\n",
    "\n",
    "\n",
    "## Example 1\n",
    "ordered_list = [1,2,3,8,9,5,7]\n",
    "anothernum   = 6\n",
    "sortNum(ordered_list,anothernum)\n",
    "\n",
    "## Example 2\n",
    "ordered_list2 = [1,2,3,8,9,33,22,4,5,7]\n",
    "anothernum2 = 67\n",
    "\n",
    "sortNum(ordered_list2,anothernum2)"
   ]
  },
  {
   "cell_type": "code",
   "execution_count": null,
   "metadata": {},
   "outputs": [],
   "source": [
    "###4\n",
    "# Ask the user for a string and print out whether this string is palindrome or not using a function. \n",
    "# (A palindrome is a string that reads the same forwards and backwards.)"
   ]
  },
  {
   "cell_type": "code",
   "execution_count": 6,
   "metadata": {},
   "outputs": [
    {
     "name": "stdout",
     "output_type": "stream",
     "text": [
      "The word is Palindrome.\n"
     ]
    }
   ],
   "source": [
    "### Solution 4a\n",
    "\n",
    "palindromeWord = \"TeneT\"\n",
    "\n",
    "def isPalindrome(palindromeWord):\n",
    "    newWordList = []\n",
    "    for i in palindromeWord:\n",
    "        newWordList.append(i)\n",
    "\n",
    "    list2 = newWordList.reverse()\n",
    "    x = \"\".join(str(x) for x in newWordList).lower()\n",
    "    \n",
    "    if(x == palindromeWord.lower()):\n",
    "        print(\"The word is Palindrome.\")\n",
    "    else:\n",
    "        print(\"The word is not Palindrome.\")\n",
    "\n",
    "isPalindrome(palindromeWord)"
   ]
  },
  {
   "cell_type": "code",
   "execution_count": null,
   "metadata": {},
   "outputs": [],
   "source": []
  },
  {
   "cell_type": "code",
   "execution_count": 13,
   "metadata": {},
   "outputs": [
    {
     "name": "stdout",
     "output_type": "stream",
     "text": [
      "The word is not Palindrome.\n"
     ]
    }
   ],
   "source": [
    "### Solution 4b\n",
    "\n",
    "palindromeWord = \"eyre\"\n",
    "\n",
    "def isPalindrome(palindromeWord):\n",
    "    my_str = palindromeWord.casefold()\n",
    "    rev_str = reversed(my_str)\n",
    "    \n",
    "    if list(rev_str) == list(my_str):\n",
    "        print(\"The word is Palindrome.\")\n",
    "    else:\n",
    "        print(\"The word is not Palindrome.\")\n",
    "\n",
    "isPalindrome(palindromeWord)"
   ]
  },
  {
   "cell_type": "code",
   "execution_count": null,
   "metadata": {},
   "outputs": [],
   "source": []
  }
 ],
 "metadata": {
  "kernelspec": {
   "display_name": "Python 3",
   "language": "python",
   "name": "python3"
  },
  "language_info": {
   "codemirror_mode": {
    "name": "ipython",
    "version": 3
   },
   "file_extension": ".py",
   "mimetype": "text/x-python",
   "name": "python",
   "nbconvert_exporter": "python",
   "pygments_lexer": "ipython3",
   "version": "3.8.5"
  }
 },
 "nbformat": 4,
 "nbformat_minor": 4
}
