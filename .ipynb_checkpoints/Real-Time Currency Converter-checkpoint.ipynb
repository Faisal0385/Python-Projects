{
 "cells": [
  {
   "cell_type": "code",
   "execution_count": 10,
   "metadata": {},
   "outputs": [],
   "source": [
    "# To convert one currency to another, we need to write a program to accept user input where the user will enter the amount of money, and then the user has to choose the type of currency the user wants to check the value of.\n",
    "#Also, Read – Python Projects with Source Code: Solved and Explained.\n",
    "#Then our program should just display the result by calculating the converted amount as the output. A good currency converter application should show the converted amount in real-time, which will only be possible if our program is working on real-time conversion rates.\n",
    "#To use real-time exchange rates, we can use the forex-python library which is used as a free tool in Python to work with exchange rates and currency conversion.\n",
    "#Features of Forex-Python Library:\n",
    "#Some of the important features provided by this library are:"
   ]
  },
  {
   "cell_type": "code",
   "execution_count": null,
   "metadata": {},
   "outputs": [],
   "source": [
    "# List all exchange rates\n",
    "# BitCoin price for all currencies\n",
    "# Converting the amount into BitCoins\n",
    "# Get historical rates for any day since 1999\n",
    "# The conversion rate for a currency (ex; USD to INR)\n",
    "# Convert the amount from one currency to another. (‘USD $ 10’ to INR)\n",
    "# Currency symbols\n",
    "# Names of currencies\n",
    "# It uses ratesapi which is a free API to work with real-time and historical exchange rates published by the European Central Bank."
   ]
  },
  {
   "cell_type": "code",
   "execution_count": 15,
   "metadata": {},
   "outputs": [
    {
     "name": "stdout",
     "output_type": "stream",
     "text": [
      "Enter the amount: 250\n",
      "From Currency: usd\n",
      "To Currency: myr\n",
      "USD  To  MYR 250\n",
      "1010.633465475\n"
     ]
    }
   ],
   "source": [
    "from forex_python.converter import CurrencyRates\n",
    "c = CurrencyRates()\n",
    "amount = int(input(\"Enter the amount: \"))\n",
    "from_currency = input(\"From Currency: \").upper()\n",
    "to_currency = input(\"To Currency: \").upper()\n",
    "print(from_currency, \" To \", to_currency, amount)\n",
    "result = c.convert(from_currency, to_currency, amount)\n",
    "print(result)"
   ]
  },
  {
   "cell_type": "code",
   "execution_count": null,
   "metadata": {},
   "outputs": [],
   "source": []
  },
  {
   "cell_type": "code",
   "execution_count": null,
   "metadata": {},
   "outputs": [],
   "source": []
  }
 ],
 "metadata": {
  "kernelspec": {
   "display_name": "Python 3",
   "language": "python",
   "name": "python3"
  },
  "language_info": {
   "codemirror_mode": {
    "name": "ipython",
    "version": 3
   },
   "file_extension": ".py",
   "mimetype": "text/x-python",
   "name": "python",
   "nbconvert_exporter": "python",
   "pygments_lexer": "ipython3",
   "version": "3.8.5"
  }
 },
 "nbformat": 4,
 "nbformat_minor": 4
}
