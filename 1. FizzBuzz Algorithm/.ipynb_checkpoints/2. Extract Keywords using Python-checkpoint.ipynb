{
 "cells": [
  {
   "cell_type": "code",
   "execution_count": null,
   "metadata": {},
   "outputs": [],
   "source": [
    "# There are so many Python libraries for the task of extracting keywords, \n",
    "# the best ones are spaCy, Rake-Nltk, YAKE. In this tutorial, \n",
    "# I will use the Rake-NLTK as it is beginner-friendly and easy to install. \n",
    "# You can easily install it by using the pip command; pip install rake-nltk.\n",
    "\n",
    "# importing the Rake module from the rake-nltk library:\n",
    "from rake_nltk import Rake\n",
    "rake_nltk_var = Rake()"
   ]
  },
  {
   "cell_type": "code",
   "execution_count": 13,
   "metadata": {},
   "outputs": [],
   "source": [
    "#store some text into a variable:\n",
    "\n",
    "text = \"\"\" Feels like yesterday I saw your beautiful mesmerizing eyes at a well lit \n",
    "day in a cafe,Years have passed as friends we supported each other through all kinds \n",
    "of trends,Can’t imagine a day without you as partner who keeps it interesting with \n",
    "all kinds of torture every moment is a nurture 😜,Feels like yesterday I saw your \n",
    "beautiful mesmerizing eyes and years went by like few moments. My strength and my \n",
    "weakness, I love you my dear wife, thank you for coming to my life. \n",
    "Happy Anniversary and Valentine’s Day! \"\"\""
   ]
  },
  {
   "cell_type": "code",
   "execution_count": 14,
   "metadata": {},
   "outputs": [],
   "source": [
    "#  Extract the keywords from the text\n",
    "rake_nltk_var.extract_keywords_from_text(text)\n",
    "keyword_extracted = rake_nltk_var.get_ranked_phrases()"
   ]
  },
  {
   "cell_type": "code",
   "execution_count": null,
   "metadata": {},
   "outputs": [],
   "source": []
  },
  {
   "cell_type": "code",
   "execution_count": 15,
   "metadata": {},
   "outputs": [
    {
     "name": "stdout",
     "output_type": "stream",
     "text": [
      "['nurture 😜, feels like yesterday', 'feels like yesterday', 'torture every moment', 'beautiful mesmerizing eyes', 'well lit day', 'happy anniversary', 'dear wife', 'day without', 'years went', 'valentine ’', 'like', 'day', '’', 'years', 'weakness', 'trends', 'thank', 'supported', 'strength', 'saw', 'passed', 'partner', 'moments', 'love', 'life', 'kinds', 'keeps', 'interesting', 'imagine', 'friends', 'coming', 'cafe']\n"
     ]
    }
   ],
   "source": [
    "#  print the output:\n",
    "print(keyword_extracted)"
   ]
  },
  {
   "cell_type": "code",
   "execution_count": null,
   "metadata": {},
   "outputs": [],
   "source": []
  }
 ],
 "metadata": {
  "kernelspec": {
   "display_name": "Python 3",
   "language": "python",
   "name": "python3"
  },
  "language_info": {
   "codemirror_mode": {
    "name": "ipython",
    "version": 3
   },
   "file_extension": ".py",
   "mimetype": "text/x-python",
   "name": "python",
   "nbconvert_exporter": "python",
   "pygments_lexer": "ipython3",
   "version": "3.8.5"
  }
 },
 "nbformat": 4,
 "nbformat_minor": 4
}
